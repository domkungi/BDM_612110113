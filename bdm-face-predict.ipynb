{
 "cells": [
  {
   "cell_type": "code",
   "execution_count": 1,
   "metadata": {
    "_cell_guid": "b1076dfc-b9ad-4769-8c92-a6c4dae69d19",
    "_uuid": "8f2839f25d086af736a60e9eeb907d3b93b6e0e5",
    "execution": {
     "iopub.execute_input": "2020-10-16T04:07:12.011113Z",
     "iopub.status.busy": "2020-10-16T04:07:12.010231Z",
     "iopub.status.idle": "2020-10-16T04:07:12.029153Z",
     "shell.execute_reply": "2020-10-16T04:07:12.028452Z"
    },
    "papermill": {
     "duration": 0.037823,
     "end_time": "2020-10-16T04:07:12.029298",
     "exception": false,
     "start_time": "2020-10-16T04:07:11.991475",
     "status": "completed"
    },
    "tags": []
   },
   "outputs": [
    {
     "name": "stdout",
     "output_type": "stream",
     "text": [
      "/kaggle/input/954471/954471/Test/F/121558240_972714016543857_6033716185027836421_o.jpg\n",
      "/kaggle/input/954471/954471/Test/F/121711378_1739798592838691_2434137178508018006_n.jpg\n",
      "/kaggle/input/954471/954471/Test/F/121297902_1739796202838930_2202079621057532442_n.jpg\n",
      "/kaggle/input/954471/954471/Test/F/121638990_1012059519260274_2330212418373086362_o.jpg\n",
      "/kaggle/input/954471/954471/Test/M/121218785_2888174644739280_5191976153731649311_n.jpg\n",
      "/kaggle/input/954471/954471/Test/M/121623008_2688765031372476_1265210388791973144_n.jpg\n",
      "/kaggle/input/954471/954471/Test/M/121558243_3459617724076248_4826110803681428223_n.jpg\n",
      "/kaggle/input/954471/954471/Test/M/121160480_3678313258869851_5818106878740531607_o.jpg\n",
      "/kaggle/input/954471/954471/Train/F/121282643_1739796282838922_3924762867765759060_n.jpg\n",
      "/kaggle/input/954471/954471/Train/F/121465524_1012059792593580_5614978863786312552_o.jpg\n",
      "/kaggle/input/954471/954471/Train/F/121453866_1739796116172272_6350458709778971249_n.jpg\n",
      "/kaggle/input/954471/954471/Train/F/121256709_972711336544125_7929623606048122247_o.jpg\n",
      "/kaggle/input/954471/954471/Train/F/121460887_1012057685927124_1603928742736483276_o.jpg\n",
      "/kaggle/input/954471/954471/Train/F/121526847_972713809877211_481376914472549411_o.jpg\n",
      "/kaggle/input/954471/954471/Train/F/121597221_972711616544097_204099069773999800_o.jpg\n",
      "/kaggle/input/954471/954471/Train/F/121469650_1012059645926928_9115015357761950295_o.jpg\n",
      "/kaggle/input/954471/954471/Train/M/121222913_2888173951406016_2943121663743613328_n.jpg\n",
      "/kaggle/input/954471/954471/Train/M/121335583_2114014788729050_910466790392877863_n.jpg\n",
      "/kaggle/input/954471/954471/Train/M/121478814_3277574072359599_3175620794088564281_n.jpg\n",
      "/kaggle/input/954471/954471/Train/M/121381660_3348014425282334_9154920501988623614_o.jpg\n",
      "/kaggle/input/954471/954471/Train/M/121368482_3314461121964215_543249990768154260_o.jpg\n",
      "/kaggle/input/954471/954471/Train/M/121472960_3362092607235628_5170860563284396140_o.jpg\n",
      "/kaggle/input/954471/954471/Train/M/121338993_3559428640790674_3898861408853482856_o.jpg\n",
      "/kaggle/input/954471/954471/Train/M/121543339_3481304788558895_349846518547631903_n.jpg\n"
     ]
    }
   ],
   "source": [
    "# This Python 3 environment comes with many helpful analytics libraries installed\n",
    "# It is defined by the kaggle/python Docker image: https://github.com/kaggle/docker-python\n",
    "# For example, here's several helpful packages to load\n",
    "\n",
    "import numpy as np # linear algebra\n",
    "import pandas as pd # data processing, CSV file I/O (e.g. pd.read_csv)\n",
    "\n",
    "# Input data files are available in the read-only \"../input/\" directory\n",
    "# For example, running this (by clicking run or pressing Shift+Enter) will list all files under the input directory\n",
    "\n",
    "import os\n",
    "for dirname, _, filenames in os.walk('/kaggle/input'):\n",
    "    for filename in filenames:\n",
    "        print(os.path.join(dirname, filename))\n",
    "\n",
    "# You can write up to 5GB to the current directory (/kaggle/working/) that gets preserved as output when you create a version using \"Save & Run All\" \n",
    "# You can also write temporary files to /kaggle/temp/, but they won't be saved outside of the current session"
   ]
  },
  {
   "cell_type": "code",
   "execution_count": 2,
   "metadata": {
    "_cell_guid": "79c7e3d0-c299-4dcb-8224-4455121ee9b0",
    "_uuid": "d629ff2d2480ee46fbb7e2d37f6b5fab8052498a",
    "execution": {
     "iopub.execute_input": "2020-10-16T04:07:12.058245Z",
     "iopub.status.busy": "2020-10-16T04:07:12.057319Z",
     "iopub.status.idle": "2020-10-16T04:07:12.060586Z",
     "shell.execute_reply": "2020-10-16T04:07:12.060024Z"
    },
    "papermill": {
     "duration": 0.020031,
     "end_time": "2020-10-16T04:07:12.060740",
     "exception": false,
     "start_time": "2020-10-16T04:07:12.040709",
     "status": "completed"
    },
    "tags": []
   },
   "outputs": [],
   "source": [
    "test_dir=\"/kaggle/input/954471/954471/Test\"\n",
    "train_dir=\"/kaggle/input/954471/954471/Train\"\n",
    "\n",
    "train_dir_cats = train_dir + '/F'\n",
    "train_dir_dogs = train_dir + '/M'\n",
    "test_dir_cats = test_dir + '/F'\n",
    "test_dir_dogs = test_dir + '/M'"
   ]
  },
  {
   "cell_type": "code",
   "execution_count": 3,
   "metadata": {
    "execution": {
     "iopub.execute_input": "2020-10-16T04:07:12.090189Z",
     "iopub.status.busy": "2020-10-16T04:07:12.088860Z",
     "iopub.status.idle": "2020-10-16T04:07:12.095944Z",
     "shell.execute_reply": "2020-10-16T04:07:12.095158Z"
    },
    "papermill": {
     "duration": 0.024509,
     "end_time": "2020-10-16T04:07:12.096073",
     "exception": false,
     "start_time": "2020-10-16T04:07:12.071564",
     "status": "completed"
    },
    "tags": []
   },
   "outputs": [
    {
     "name": "stdout",
     "output_type": "stream",
     "text": [
      "number of cats training images -  8\n",
      "number of dogs training images -  8\n",
      "number of cats testing images -  4\n",
      "number of dogs testing images -  4\n"
     ]
    }
   ],
   "source": [
    "print('number of cats training images - ',len(os.listdir(train_dir_cats)))\n",
    "print('number of dogs training images - ',len(os.listdir(train_dir_dogs)))\n",
    "print('number of cats testing images - ',len(os.listdir(test_dir_cats)))\n",
    "print('number of dogs testing images - ',len(os.listdir(test_dir_dogs)))"
   ]
  },
  {
   "cell_type": "code",
   "execution_count": 4,
   "metadata": {
    "execution": {
     "iopub.execute_input": "2020-10-16T04:07:12.127281Z",
     "iopub.status.busy": "2020-10-16T04:07:12.126371Z",
     "iopub.status.idle": "2020-10-16T04:07:18.832596Z",
     "shell.execute_reply": "2020-10-16T04:07:18.831908Z"
    },
    "papermill": {
     "duration": 6.725268,
     "end_time": "2020-10-16T04:07:18.832747",
     "exception": false,
     "start_time": "2020-10-16T04:07:12.107479",
     "status": "completed"
    },
    "tags": []
   },
   "outputs": [],
   "source": [
    "from tensorflow.keras.preprocessing.image import ImageDataGenerator\n",
    "data_generator = ImageDataGenerator(\n",
    "        featurewise_center=False,  # set input mean to 0 over the dataset\n",
    "        samplewise_center=False,  # set each sample mean to 0\n",
    "        featurewise_std_normalization=False,  # divide inputs by std of the dataset\n",
    "        samplewise_std_normalization=False,  # divide each input by its std\n",
    "        rescale = 1.0/255.0,   # Intensity Normalized\n",
    "        zca_whitening=False,  # apply ZCA whitening\n",
    "        rotation_range=10,  # randomly rotate images in the range (degrees, 0 to 180)\n",
    "        zoom_range = 0.2, # Randomly zoom image \n",
    "        width_shift_range=0.1,  # randomly shift images horizontally (fraction of total width)\n",
    "        height_shift_range=0.1,  # randomly shift images vertically (fraction of total height)\n",
    "        horizontal_flip=False,  # randomly flip images\n",
    "        vertical_flip=False,   # randomly flip images\n",
    "        validation_split=0.2)"
   ]
  },
  {
   "cell_type": "code",
   "execution_count": 5,
   "metadata": {
    "execution": {
     "iopub.execute_input": "2020-10-16T04:07:18.866484Z",
     "iopub.status.busy": "2020-10-16T04:07:18.865718Z",
     "iopub.status.idle": "2020-10-16T04:07:19.077373Z",
     "shell.execute_reply": "2020-10-16T04:07:19.076728Z"
    },
    "papermill": {
     "duration": 0.233145,
     "end_time": "2020-10-16T04:07:19.077495",
     "exception": false,
     "start_time": "2020-10-16T04:07:18.844350",
     "status": "completed"
    },
    "tags": []
   },
   "outputs": [
    {
     "name": "stdout",
     "output_type": "stream",
     "text": [
      "Found 14 images belonging to 2 classes.\n",
      "Found 2 images belonging to 2 classes.\n"
     ]
    }
   ],
   "source": [
    "batch_size = 2\n",
    "img_height = 128\n",
    "img_width  = 128\n",
    "train_generator = data_generator.flow_from_directory(\n",
    "    train_dir,\n",
    "    target_size=(img_height, img_width),\n",
    "    batch_size=batch_size,\n",
    "    class_mode='binary',\n",
    "    subset='training') # set as training data\n",
    "\n",
    "validation_generator = data_generator.flow_from_directory(\n",
    "    train_dir, # same directory as training data\n",
    "    target_size=(img_height, img_width),\n",
    "    batch_size=batch_size,\n",
    "    class_mode='binary',\n",
    "    subset='validation') # set as validation data"
   ]
  },
  {
   "cell_type": "code",
   "execution_count": 6,
   "metadata": {
    "execution": {
     "iopub.execute_input": "2020-10-16T04:07:19.109513Z",
     "iopub.status.busy": "2020-10-16T04:07:19.108344Z",
     "iopub.status.idle": "2020-10-16T04:07:19.112747Z",
     "shell.execute_reply": "2020-10-16T04:07:19.113274Z"
    },
    "papermill": {
     "duration": 0.023879,
     "end_time": "2020-10-16T04:07:19.113431",
     "exception": false,
     "start_time": "2020-10-16T04:07:19.089552",
     "status": "completed"
    },
    "tags": []
   },
   "outputs": [
    {
     "data": {
      "text/plain": [
       "{'F': 0, 'M': 1}"
      ]
     },
     "execution_count": 6,
     "metadata": {},
     "output_type": "execute_result"
    }
   ],
   "source": [
    "train_generator.class_indices"
   ]
  },
  {
   "cell_type": "code",
   "execution_count": 7,
   "metadata": {
    "execution": {
     "iopub.execute_input": "2020-10-16T04:07:19.156395Z",
     "iopub.status.busy": "2020-10-16T04:07:19.153288Z",
     "iopub.status.idle": "2020-10-16T04:07:19.493936Z",
     "shell.execute_reply": "2020-10-16T04:07:19.492801Z"
    },
    "papermill": {
     "duration": 0.367988,
     "end_time": "2020-10-16T04:07:19.494121",
     "exception": false,
     "start_time": "2020-10-16T04:07:19.126133",
     "status": "completed"
    },
    "tags": []
   },
   "outputs": [],
   "source": [
    "from tensorflow.keras.models import Sequential\n",
    "from tensorflow.keras.layers import Conv2D, MaxPooling2D, Flatten, Dense, Dropout, Activation\n",
    "# preparing the layers in the Convolutional Deep Neural Network\n",
    "model = Sequential()\n",
    "model.add(Conv2D(filters = 32, kernel_size = (3, 3), activation = 'relu', input_shape = train_generator.image_shape))\n",
    "model.add(MaxPooling2D(pool_size = (2, 2)))\n",
    "model.add(Dropout(rate = 0.5))\n",
    "model.add(Conv2D(filters = 64, kernel_size = (3, 3), activation = 'relu'))\n",
    "model.add(MaxPooling2D(pool_size = (2, 2)))\n",
    "model.add(Dropout(rate = 0.25))\n",
    "model.add(Conv2D(filters = 128, kernel_size = (3, 3), activation = 'relu'))\n",
    "model.add(MaxPooling2D(pool_size = (2, 2)))\n",
    "model.add(Dropout(rate = 0.1))\n",
    "model.add(Flatten())\n",
    "model.add(Dense(units = 32, activation = 'relu'))\n",
    "model.add(Dense(units = 64, activation = 'relu'))\n",
    "model.add(Dense(units = 1, activation = 'sigmoid'))\n",
    "model.compile(optimizer = 'adam', loss = 'binary_crossentropy', metrics = ['accuracy'])"
   ]
  },
  {
   "cell_type": "code",
   "execution_count": 8,
   "metadata": {
    "execution": {
     "iopub.execute_input": "2020-10-16T04:07:19.531395Z",
     "iopub.status.busy": "2020-10-16T04:07:19.530585Z",
     "iopub.status.idle": "2020-10-16T04:07:41.923592Z",
     "shell.execute_reply": "2020-10-16T04:07:41.922934Z"
    },
    "papermill": {
     "duration": 22.41295,
     "end_time": "2020-10-16T04:07:41.923766",
     "exception": false,
     "start_time": "2020-10-16T04:07:19.510816",
     "status": "completed"
    },
    "tags": []
   },
   "outputs": [
    {
     "name": "stdout",
     "output_type": "stream",
     "text": [
      "Epoch 1/50\n",
      "7/7 [==============================] - 1s 81ms/step - loss: 0.9165 - accuracy: 0.3571 - val_loss: 0.6936 - val_accuracy: 0.5000\n",
      "Epoch 2/50\n",
      "7/7 [==============================] - 0s 48ms/step - loss: 0.6964 - accuracy: 0.5000 - val_loss: 0.6935 - val_accuracy: 0.5000\n",
      "Epoch 3/50\n",
      "7/7 [==============================] - 0s 48ms/step - loss: 0.6927 - accuracy: 0.5000 - val_loss: 0.6933 - val_accuracy: 0.5000\n",
      "Epoch 4/50\n",
      "7/7 [==============================] - 0s 48ms/step - loss: 0.6918 - accuracy: 0.5000 - val_loss: 0.6929 - val_accuracy: 0.5000\n",
      "Epoch 5/50\n",
      "7/7 [==============================] - 0s 48ms/step - loss: 0.6908 - accuracy: 0.5000 - val_loss: 0.6922 - val_accuracy: 0.5000\n",
      "Epoch 6/50\n",
      "7/7 [==============================] - 0s 48ms/step - loss: 0.6822 - accuracy: 0.5000 - val_loss: 0.6836 - val_accuracy: 0.5000\n",
      "Epoch 7/50\n",
      "7/7 [==============================] - 0s 48ms/step - loss: 0.6710 - accuracy: 0.5000 - val_loss: 0.6635 - val_accuracy: 0.5000\n",
      "Epoch 8/50\n",
      "7/7 [==============================] - 0s 50ms/step - loss: 0.6773 - accuracy: 0.5000 - val_loss: 0.6463 - val_accuracy: 1.0000\n",
      "Epoch 9/50\n",
      "7/7 [==============================] - 0s 60ms/step - loss: 0.6165 - accuracy: 0.7857 - val_loss: 0.5779 - val_accuracy: 1.0000\n",
      "Epoch 10/50\n",
      "7/7 [==============================] - 0s 53ms/step - loss: 0.4337 - accuracy: 0.8571 - val_loss: 0.2598 - val_accuracy: 1.0000\n",
      "Epoch 11/50\n",
      "7/7 [==============================] - 0s 47ms/step - loss: 0.2082 - accuracy: 0.8571 - val_loss: 0.3802 - val_accuracy: 0.5000\n",
      "Epoch 12/50\n",
      "7/7 [==============================] - 0s 46ms/step - loss: 0.2130 - accuracy: 0.8571 - val_loss: 0.0129 - val_accuracy: 1.0000\n",
      "Epoch 13/50\n",
      "7/7 [==============================] - 0s 51ms/step - loss: 0.5532 - accuracy: 0.9286 - val_loss: 0.0229 - val_accuracy: 1.0000\n",
      "Epoch 14/50\n",
      "7/7 [==============================] - 0s 47ms/step - loss: 0.3077 - accuracy: 0.8571 - val_loss: 0.0764 - val_accuracy: 1.0000\n",
      "Epoch 15/50\n",
      "7/7 [==============================] - 0s 55ms/step - loss: 0.0826 - accuracy: 1.0000 - val_loss: 0.1850 - val_accuracy: 1.0000\n",
      "Epoch 16/50\n",
      "7/7 [==============================] - 0s 47ms/step - loss: 0.1676 - accuracy: 0.9286 - val_loss: 0.0514 - val_accuracy: 1.0000\n",
      "Epoch 17/50\n",
      "7/7 [==============================] - 0s 50ms/step - loss: 0.1814 - accuracy: 0.8571 - val_loss: 0.0385 - val_accuracy: 1.0000\n",
      "Epoch 18/50\n",
      "7/7 [==============================] - 0s 48ms/step - loss: 0.0259 - accuracy: 1.0000 - val_loss: 0.0573 - val_accuracy: 1.0000\n",
      "Epoch 19/50\n",
      "7/7 [==============================] - 0s 47ms/step - loss: 0.0587 - accuracy: 0.9286 - val_loss: 0.0037 - val_accuracy: 1.0000\n",
      "Epoch 20/50\n",
      "7/7 [==============================] - 0s 53ms/step - loss: 0.0998 - accuracy: 0.9286 - val_loss: 0.0081 - val_accuracy: 1.0000\n",
      "Epoch 21/50\n",
      "7/7 [==============================] - 0s 47ms/step - loss: 0.1744 - accuracy: 0.8571 - val_loss: 0.0072 - val_accuracy: 1.0000\n",
      "Epoch 22/50\n",
      "7/7 [==============================] - 0s 45ms/step - loss: 0.1906 - accuracy: 0.8571 - val_loss: 0.0029 - val_accuracy: 1.0000\n",
      "Epoch 23/50\n",
      "7/7 [==============================] - 0s 46ms/step - loss: 0.0159 - accuracy: 1.0000 - val_loss: 0.0040 - val_accuracy: 1.0000\n",
      "Epoch 24/50\n",
      "7/7 [==============================] - 0s 47ms/step - loss: 0.0458 - accuracy: 1.0000 - val_loss: 0.0033 - val_accuracy: 1.0000\n",
      "Epoch 25/50\n",
      "7/7 [==============================] - 0s 47ms/step - loss: 0.0037 - accuracy: 1.0000 - val_loss: 0.0067 - val_accuracy: 1.0000\n",
      "Epoch 26/50\n",
      "7/7 [==============================] - 0s 46ms/step - loss: 0.0207 - accuracy: 1.0000 - val_loss: 0.0051 - val_accuracy: 1.0000\n",
      "Epoch 27/50\n",
      "7/7 [==============================] - 0s 47ms/step - loss: 0.0559 - accuracy: 1.0000 - val_loss: 0.0016 - val_accuracy: 1.0000\n",
      "Epoch 28/50\n",
      "7/7 [==============================] - 0s 47ms/step - loss: 0.0053 - accuracy: 1.0000 - val_loss: 2.1067e-04 - val_accuracy: 1.0000\n",
      "Epoch 29/50\n",
      "7/7 [==============================] - 0s 46ms/step - loss: 0.2932 - accuracy: 0.9286 - val_loss: 0.0011 - val_accuracy: 1.0000\n",
      "Epoch 30/50\n",
      "7/7 [==============================] - 0s 47ms/step - loss: 0.0037 - accuracy: 1.0000 - val_loss: 0.0115 - val_accuracy: 1.0000\n",
      "Epoch 31/50\n",
      "7/7 [==============================] - 0s 47ms/step - loss: 0.4007 - accuracy: 0.8571 - val_loss: 0.8058 - val_accuracy: 0.5000\n",
      "Epoch 32/50\n",
      "7/7 [==============================] - 0s 46ms/step - loss: 0.9704 - accuracy: 0.3571 - val_loss: 0.6758 - val_accuracy: 0.5000\n",
      "Epoch 33/50\n",
      "7/7 [==============================] - 0s 46ms/step - loss: 0.6721 - accuracy: 0.6429 - val_loss: 0.6327 - val_accuracy: 1.0000\n",
      "Epoch 34/50\n",
      "7/7 [==============================] - 0s 46ms/step - loss: 0.5747 - accuracy: 0.9286 - val_loss: 0.5082 - val_accuracy: 1.0000\n",
      "Epoch 35/50\n",
      "7/7 [==============================] - 0s 47ms/step - loss: 0.3320 - accuracy: 0.8571 - val_loss: 0.1398 - val_accuracy: 1.0000\n",
      "Epoch 36/50\n",
      "7/7 [==============================] - 0s 46ms/step - loss: 0.1629 - accuracy: 0.9286 - val_loss: 0.2480 - val_accuracy: 1.0000\n",
      "Epoch 37/50\n",
      "7/7 [==============================] - 0s 47ms/step - loss: 0.7163 - accuracy: 0.8571 - val_loss: 0.0086 - val_accuracy: 1.0000\n",
      "Epoch 38/50\n",
      "7/7 [==============================] - 0s 46ms/step - loss: 0.6295 - accuracy: 0.8571 - val_loss: 0.2816 - val_accuracy: 1.0000\n",
      "Epoch 39/50\n",
      "7/7 [==============================] - 0s 46ms/step - loss: 0.8053 - accuracy: 0.5714 - val_loss: 0.3699 - val_accuracy: 1.0000\n",
      "Epoch 40/50\n",
      "7/7 [==============================] - 0s 47ms/step - loss: 0.3208 - accuracy: 0.8571 - val_loss: 0.3519 - val_accuracy: 1.0000\n",
      "Epoch 41/50\n",
      "7/7 [==============================] - 0s 56ms/step - loss: 0.2664 - accuracy: 0.9286 - val_loss: 0.1178 - val_accuracy: 1.0000\n",
      "Epoch 42/50\n",
      "7/7 [==============================] - 0s 46ms/step - loss: 0.2276 - accuracy: 0.8571 - val_loss: 0.0437 - val_accuracy: 1.0000\n",
      "Epoch 43/50\n",
      "7/7 [==============================] - 0s 47ms/step - loss: 0.0717 - accuracy: 1.0000 - val_loss: 0.0626 - val_accuracy: 1.0000\n",
      "Epoch 44/50\n",
      "7/7 [==============================] - 0s 46ms/step - loss: 0.0344 - accuracy: 1.0000 - val_loss: 0.4567 - val_accuracy: 0.5000\n",
      "Epoch 45/50\n",
      "7/7 [==============================] - 0s 46ms/step - loss: 0.0040 - accuracy: 1.0000 - val_loss: 0.0300 - val_accuracy: 1.0000\n",
      "Epoch 46/50\n",
      "7/7 [==============================] - 0s 47ms/step - loss: 0.0012 - accuracy: 1.0000 - val_loss: 4.4727e-04 - val_accuracy: 1.0000\n",
      "Epoch 47/50\n",
      "7/7 [==============================] - 0s 47ms/step - loss: 0.0100 - accuracy: 1.0000 - val_loss: 3.8457e-05 - val_accuracy: 1.0000\n",
      "Epoch 48/50\n",
      "7/7 [==============================] - 0s 47ms/step - loss: 0.0042 - accuracy: 1.0000 - val_loss: 8.2234e-05 - val_accuracy: 1.0000\n",
      "Epoch 49/50\n",
      "7/7 [==============================] - 0s 47ms/step - loss: 0.2770 - accuracy: 0.9286 - val_loss: 0.0185 - val_accuracy: 1.0000\n",
      "Epoch 50/50\n",
      "7/7 [==============================] - 0s 46ms/step - loss: 0.4179 - accuracy: 0.9286 - val_loss: 0.0027 - val_accuracy: 1.0000\n"
     ]
    }
   ],
   "source": [
    "fitted_model = model.fit_generator(\n",
    "    train_generator,\n",
    "    steps_per_epoch = train_generator.samples // batch_size,\n",
    "    validation_data = validation_generator, \n",
    "    validation_steps = validation_generator.samples // batch_size,\n",
    "    epochs = 50)"
   ]
  },
  {
   "cell_type": "code",
   "execution_count": 9,
   "metadata": {
    "execution": {
     "iopub.execute_input": "2020-10-16T04:07:42.213006Z",
     "iopub.status.busy": "2020-10-16T04:07:42.211085Z",
     "iopub.status.idle": "2020-10-16T04:07:42.419016Z",
     "shell.execute_reply": "2020-10-16T04:07:42.418377Z"
    },
    "papermill": {
     "duration": 0.360105,
     "end_time": "2020-10-16T04:07:42.419141",
     "exception": false,
     "start_time": "2020-10-16T04:07:42.059036",
     "status": "completed"
    },
    "tags": []
   },
   "outputs": [
    {
     "data": {
      "text/plain": [
       "<matplotlib.legend.Legend at 0x7fed61898210>"
      ]
     },
     "execution_count": 9,
     "metadata": {},
     "output_type": "execute_result"
    },
    {
     "data": {
      "image/png": "[encoded data removed]",
      "text/plain": [
       "<Figure size 432x288 with 1 Axes>"
      ]
     },
     "metadata": {
      "needs_background": "light"
     },
     "output_type": "display_data"
    }
   ],
   "source": [
    "import matplotlib.pyplot as plt\n",
    "# plotting accuracy and validation accuracy\n",
    "accuracy = fitted_model.history['accuracy']\n",
    "val_accuracy = fitted_model.history['val_accuracy']\n",
    "plt.plot(range(len(accuracy)), accuracy, 'b-', label = 'accuracy')\n",
    "plt.plot(range(len(val_accuracy)), val_accuracy, 'r-', label = 'val_accuracy')\n",
    "plt.legend()"
   ]
  },
  {
   "cell_type": "code",
   "execution_count": 10,
   "metadata": {
    "execution": {
     "iopub.execute_input": "2020-10-16T04:07:42.701765Z",
     "iopub.status.busy": "2020-10-16T04:07:42.700748Z",
     "iopub.status.idle": "2020-10-16T04:07:42.864090Z",
     "shell.execute_reply": "2020-10-16T04:07:42.863299Z"
    },
    "papermill": {
     "duration": 0.307524,
     "end_time": "2020-10-16T04:07:42.864244",
     "exception": false,
     "start_time": "2020-10-16T04:07:42.556720",
     "status": "completed"
    },
    "tags": []
   },
   "outputs": [
    {
     "name": "stdout",
     "output_type": "stream",
     "text": [
      "[1.]\n"
     ]
    }
   ],
   "source": [
    "from tensorflow.keras.preprocessing import image\n",
    "# testing the model\n",
    "\n",
    "test_image = image.load_img(test_dir + '/M/121160480_3678313258869851_5818106878740531607_o.jpg', target_size = (img_height, img_width))\n",
    "test_image = image.img_to_array(test_image)\n",
    "test_image = np.expand_dims(test_image, axis = 0)\n",
    "result = model.predict(test_image)\n",
    "print(np.round(result[0]))"
   ]
  },
  {
   "cell_type": "code",
   "execution_count": null,
   "metadata": {
    "papermill": {
     "duration": 0.137132,
     "end_time": "2020-10-16T04:07:43.138327",
     "exception": false,
     "start_time": "2020-10-16T04:07:43.001195",
     "status": "completed"
    },
    "tags": []
   },
   "outputs": [],
   "source": []
  }
 ],
 "metadata": {
  "kernelspec": {
   "display_name": "Python 3",
   "language": "python",
   "name": "python3"
  },
  "language_info": {
   "codemirror_mode": {
    "name": "ipython",
    "version": 3
   },
   "file_extension": ".py",
   "mimetype": "text/x-python",
   "name": "python",
   "nbconvert_exporter": "python",
   "pygments_lexer": "ipython3",
   "version": "3.7.6"
  },
  "papermill": {
   "duration": 36.621909,
   "end_time": "2020-10-16T04:07:43.384225",
   "environment_variables": {},
   "exception": null,
   "input_path": "__notebook__.ipynb",
   "output_path": "__notebook__.ipynb",
   "parameters": {},
   "start_time": "2020-10-16T04:07:06.762316",
   "version": "2.1.0"
  }
 },
 "nbformat": 4,
 "nbformat_minor": 4
}
